{
 "cells": [
  {
   "cell_type": "code",
   "execution_count": 1,
   "id": "continent-disney",
   "metadata": {},
   "outputs": [],
   "source": [
    "import numpy as np\n",
    "import pandas as pd\n",
    "from matplotlib import pyplot as plt\n",
    "import keras\n",
    "import tensorflow as tf"
   ]
  },
  {
   "cell_type": "code",
   "execution_count": 2,
   "id": "greatest-operations",
   "metadata": {},
   "outputs": [],
   "source": [
    "train_dataset=pd.read_csv(\"gs_train.csv\")"
   ]
  },
  {
   "cell_type": "code",
   "execution_count": 4,
   "id": "large-palestine",
   "metadata": {},
   "outputs": [],
   "source": [
    "train=train_dataset.iloc[:,4:5].values"
   ]
  },
  {
   "cell_type": "code",
   "execution_count": 5,
   "id": "fifth-uganda",
   "metadata": {},
   "outputs": [],
   "source": [
    "from sklearn.preprocessing import MinMaxScaler"
   ]
  },
  {
   "cell_type": "code",
   "execution_count": 6,
   "id": "unavailable-bermuda",
   "metadata": {},
   "outputs": [],
   "source": [
    "sc=MinMaxScaler(feature_range=(0,1))\n",
    "train_scaled=sc.fit_transform(train)"
   ]
  },
  {
   "cell_type": "code",
   "execution_count": 10,
   "id": "legitimate-technology",
   "metadata": {},
   "outputs": [],
   "source": [
    "x_train=[]\n",
    "y_train=[]\n",
    "for i in range(50,len(train)-2):\n",
    "    x_train.append(train_scaled[i-50:i,0])\n",
    "    y_train.append(train_scaled[i])"
   ]
  },
  {
   "cell_type": "code",
   "execution_count": 13,
   "id": "major-interim",
   "metadata": {},
   "outputs": [],
   "source": [
    "x_train,y_train=np.array(x_train),np.array(y_train)"
   ]
  },
  {
   "cell_type": "code",
   "execution_count": 19,
   "id": "unlikely-indicator",
   "metadata": {},
   "outputs": [],
   "source": [
    "x_train=np.reshape(x_train,(x_train.shape[0],x_train.shape[1],1))"
   ]
  },
  {
   "cell_type": "code",
   "execution_count": 20,
   "id": "satellite-wrist",
   "metadata": {},
   "outputs": [],
   "source": [
    "from keras.models import Sequential\n",
    "from keras.layers import Dense\n",
    "from keras.layers import LSTM\n",
    "from keras.layers import Dropout"
   ]
  },
  {
   "cell_type": "code",
   "execution_count": 21,
   "id": "norwegian-classroom",
   "metadata": {},
   "outputs": [],
   "source": [
    "gs=Sequential()\n",
    "gs.add(LSTM(units=50,return_sequences=True,input_shape=(x_train.shape[1],1)))\n",
    "gs.add(Dropout(0.2))\n",
    "gs.add(LSTM(units=50,return_sequences=True))\n",
    "gs.add(Dropout(0.2))\n",
    "\n",
    "gs.add(LSTM(units=50,return_sequences=True))\n",
    "gs.add(Dropout(0.2))\n",
    "\n",
    "gs.add(LSTM(units=50))\n",
    "gs.add(Dropout(0.2))"
   ]
  },
  {
   "cell_type": "code",
   "execution_count": 22,
   "id": "protected-yorkshire",
   "metadata": {
    "scrolled": true
   },
   "outputs": [
    {
     "name": "stdout",
     "output_type": "stream",
     "text": [
      "Epoch 1/100\n",
      "132/132 [==============================] - 10s 45ms/step - loss: 0.0259\n",
      "Epoch 2/100\n",
      "132/132 [==============================] - 7s 50ms/step - loss: 0.0045\n",
      "Epoch 3/100\n",
      "132/132 [==============================] - 6s 47ms/step - loss: 0.0031\n",
      "Epoch 4/100\n",
      "132/132 [==============================] - 7s 55ms/step - loss: 0.0031\n",
      "Epoch 5/100\n",
      "132/132 [==============================] - 6s 45ms/step - loss: 0.0027\n",
      "Epoch 6/100\n",
      "132/132 [==============================] - 7s 53ms/step - loss: 0.0023\n",
      "Epoch 7/100\n",
      "132/132 [==============================] - 7s 50ms/step - loss: 0.0024: 0s - loss:\n",
      "Epoch 8/100\n",
      "132/132 [==============================] - 6s 49ms/step - loss: 0.0022\n",
      "Epoch 9/100\n",
      "132/132 [==============================] - 6s 46ms/step - loss: 0.0022\n",
      "Epoch 10/100\n",
      "132/132 [==============================] - 7s 51ms/step - loss: 0.0018\n",
      "Epoch 11/100\n",
      "132/132 [==============================] - 7s 50ms/step - loss: 0.0018\n",
      "Epoch 12/100\n",
      "132/132 [==============================] - 6s 44ms/step - loss: 0.0018\n",
      "Epoch 13/100\n",
      "132/132 [==============================] - 6s 44ms/step - loss: 0.0017\n",
      "Epoch 14/100\n",
      "132/132 [==============================] - 6s 47ms/step - loss: 0.0016\n",
      "Epoch 15/100\n",
      "132/132 [==============================] - 6s 49ms/step - loss: 0.0015\n",
      "Epoch 16/100\n",
      "132/132 [==============================] - 16s 121ms/step - loss: 0.0016\n",
      "Epoch 17/100\n",
      "132/132 [==============================] - 6s 44ms/step - loss: 0.0013\n",
      "Epoch 18/100\n",
      "132/132 [==============================] - 6s 44ms/step - loss: 0.0014\n",
      "Epoch 19/100\n",
      "132/132 [==============================] - 6s 44ms/step - loss: 0.0013\n",
      "Epoch 20/100\n",
      "132/132 [==============================] - 7s 51ms/step - loss: 0.0013\n",
      "Epoch 21/100\n",
      "132/132 [==============================] - 8s 63ms/step - loss: 0.0012\n",
      "Epoch 22/100\n",
      "132/132 [==============================] - 10s 72ms/step - loss: 0.0012\n",
      "Epoch 23/100\n",
      "132/132 [==============================] - 7s 52ms/step - loss: 0.0013\n",
      "Epoch 24/100\n",
      "132/132 [==============================] - 6s 46ms/step - loss: 0.0011\n",
      "Epoch 25/100\n",
      "132/132 [==============================] - 11s 85ms/step - loss: 0.0011\n",
      "Epoch 26/100\n",
      "132/132 [==============================] - 6s 44ms/step - loss: 9.9043e-04\n",
      "Epoch 27/100\n",
      "132/132 [==============================] - 10s 73ms/step - loss: 0.0011\n",
      "Epoch 28/100\n",
      "132/132 [==============================] - 9s 70ms/step - loss: 9.9914e-04\n",
      "Epoch 29/100\n",
      "132/132 [==============================] - 12s 94ms/step - loss: 0.0010\n",
      "Epoch 30/100\n",
      "132/132 [==============================] - 17s 126ms/step - loss: 0.0011\n",
      "Epoch 31/100\n",
      "132/132 [==============================] - 15s 117ms/step - loss: 9.7998e-04\n",
      "Epoch 32/100\n",
      "132/132 [==============================] - 14s 105ms/step - loss: 0.0011\n",
      "Epoch 33/100\n",
      "132/132 [==============================] - 8s 61ms/step - loss: 9.6072e-04\n",
      "Epoch 34/100\n",
      "132/132 [==============================] - 16s 123ms/step - loss: 9.7505e-04\n",
      "Epoch 35/100\n",
      "132/132 [==============================] - 7s 56ms/step - loss: 0.0010\n",
      "Epoch 36/100\n",
      "132/132 [==============================] - 8s 61ms/step - loss: 8.4982e-04\n",
      "Epoch 37/100\n",
      "132/132 [==============================] - 12s 87ms/step - loss: 8.3911e-04\n",
      "Epoch 38/100\n",
      "132/132 [==============================] - 6s 45ms/step - loss: 8.9074e-04\n",
      "Epoch 39/100\n",
      "132/132 [==============================] - 6s 44ms/step - loss: 8.1399e-04\n",
      "Epoch 40/100\n",
      "132/132 [==============================] - 6s 45ms/step - loss: 8.0040e-04\n",
      "Epoch 41/100\n",
      "132/132 [==============================] - 7s 53ms/step - loss: 9.2650e-04\n",
      "Epoch 42/100\n",
      "132/132 [==============================] - 16s 124ms/step - loss: 8.0314e-04\n",
      "Epoch 43/100\n",
      "132/132 [==============================] - 6s 44ms/step - loss: 8.6912e-04\n",
      "Epoch 44/100\n",
      "132/132 [==============================] - 6s 44ms/step - loss: 7.1274e-04\n",
      "Epoch 45/100\n",
      "132/132 [==============================] - 6s 45ms/step - loss: 8.0083e-04\n",
      "Epoch 46/100\n",
      "132/132 [==============================] - 6s 44ms/step - loss: 7.6917e-04\n",
      "Epoch 47/100\n",
      "132/132 [==============================] - 6s 44ms/step - loss: 8.9817e-04\n",
      "Epoch 48/100\n",
      "132/132 [==============================] - 6s 45ms/step - loss: 7.7810e-04\n",
      "Epoch 49/100\n",
      "132/132 [==============================] - 6s 45ms/step - loss: 7.8199e-04\n",
      "Epoch 50/100\n",
      "132/132 [==============================] - 11s 84ms/step - loss: 7.5341e-04\n",
      "Epoch 51/100\n",
      "132/132 [==============================] - 6s 45ms/step - loss: 7.1750e-04\n",
      "Epoch 52/100\n",
      "132/132 [==============================] - 6s 44ms/step - loss: 7.9306e-04\n",
      "Epoch 53/100\n",
      "132/132 [==============================] - 6s 45ms/step - loss: 8.4794e-04\n",
      "Epoch 54/100\n",
      "132/132 [==============================] - 6s 46ms/step - loss: 7.8155e-04\n",
      "Epoch 55/100\n",
      "132/132 [==============================] - 6s 45ms/step - loss: 7.1394e-04\n",
      "Epoch 56/100\n",
      "132/132 [==============================] - 6s 44ms/step - loss: 7.1778e-04\n",
      "Epoch 57/100\n",
      "132/132 [==============================] - 6s 43ms/step - loss: 7.6131e-04\n",
      "Epoch 58/100\n",
      "132/132 [==============================] - 6s 44ms/step - loss: 7.8089e-04\n",
      "Epoch 59/100\n",
      "132/132 [==============================] - 6s 44ms/step - loss: 7.1777e-04\n",
      "Epoch 60/100\n",
      "132/132 [==============================] - 8s 65ms/step - loss: 7.3966e-04\n",
      "Epoch 61/100\n",
      "132/132 [==============================] - 14s 103ms/step - loss: 7.4584e-04\n",
      "Epoch 62/100\n",
      "132/132 [==============================] - 8s 64ms/step - loss: 8.1244e-04\n",
      "Epoch 63/100\n",
      "132/132 [==============================] - 6s 49ms/step - loss: 8.1468e-04\n",
      "Epoch 64/100\n",
      "132/132 [==============================] - 6s 44ms/step - loss: 6.9706e-04\n",
      "Epoch 65/100\n",
      "132/132 [==============================] - 6s 44ms/step - loss: 8.0931e-04\n",
      "Epoch 66/100\n",
      "132/132 [==============================] - 6s 44ms/step - loss: 7.5877e-04\n",
      "Epoch 67/100\n",
      "132/132 [==============================] - 6s 44ms/step - loss: 7.7531e-04\n",
      "Epoch 68/100\n",
      "132/132 [==============================] - 6s 45ms/step - loss: 7.5698e-04\n",
      "Epoch 69/100\n",
      "132/132 [==============================] - 9s 67ms/step - loss: 8.1404e-04\n",
      "Epoch 70/100\n",
      "132/132 [==============================] - 6s 44ms/step - loss: 8.1903e-04\n",
      "Epoch 71/100\n",
      "132/132 [==============================] - 6s 44ms/step - loss: 6.7587e-04\n",
      "Epoch 72/100\n",
      "132/132 [==============================] - 6s 45ms/step - loss: 6.9583e-04\n",
      "Epoch 73/100\n",
      "132/132 [==============================] - 6s 45ms/step - loss: 7.4975e-04\n",
      "Epoch 74/100\n",
      "132/132 [==============================] - 6s 44ms/step - loss: 7.2404e-04\n",
      "Epoch 75/100\n",
      "132/132 [==============================] - 6s 46ms/step - loss: 7.1725e-04\n",
      "Epoch 76/100\n",
      "132/132 [==============================] - 6s 45ms/step - loss: 6.5137e-04\n",
      "Epoch 77/100\n",
      "132/132 [==============================] - 14s 109ms/step - loss: 7.2994e-04\n",
      "Epoch 78/100\n",
      "132/132 [==============================] - 15s 112ms/step - loss: 7.0833e-04\n",
      "Epoch 79/100\n",
      "132/132 [==============================] - 8s 61ms/step - loss: 7.6085e-04\n",
      "Epoch 80/100\n",
      "132/132 [==============================] - 6s 44ms/step - loss: 7.6622e-04\n",
      "Epoch 81/100\n",
      "132/132 [==============================] - 6s 44ms/step - loss: 7.3928e-04\n",
      "Epoch 82/100\n",
      "132/132 [==============================] - 6s 44ms/step - loss: 7.3265e-04\n",
      "Epoch 83/100\n",
      "132/132 [==============================] - 6s 43ms/step - loss: 7.0411e-04\n",
      "Epoch 84/100\n",
      "132/132 [==============================] - 11s 81ms/step - loss: 7.2322e-04\n",
      "Epoch 85/100\n",
      "132/132 [==============================] - 6s 44ms/step - loss: 7.7447e-04\n",
      "Epoch 86/100\n",
      "132/132 [==============================] - 6s 44ms/step - loss: 6.6217e-04\n",
      "Epoch 87/100\n",
      "132/132 [==============================] - 6s 44ms/step - loss: 7.2536e-04\n",
      "Epoch 88/100\n",
      "132/132 [==============================] - 6s 45ms/step - loss: 7.3489e-04: 0s - loss: 7.3521e\n",
      "Epoch 89/100\n",
      "132/132 [==============================] - 6s 44ms/step - loss: 6.4940e-04\n",
      "Epoch 90/100\n",
      "132/132 [==============================] - 6s 44ms/step - loss: 8.7085e-04\n",
      "Epoch 91/100\n",
      "132/132 [==============================] - 10s 78ms/step - loss: 7.8609e-04\n",
      "Epoch 92/100\n",
      "132/132 [==============================] - 11s 81ms/step - loss: 6.6493e-04\n",
      "Epoch 93/100\n",
      "132/132 [==============================] - 6s 49ms/step - loss: 6.8801e-04\n",
      "Epoch 94/100\n"
     ]
    },
    {
     "name": "stdout",
     "output_type": "stream",
     "text": [
      "132/132 [==============================] - 6s 44ms/step - loss: 6.2827e-04\n",
      "Epoch 95/100\n",
      "132/132 [==============================] - 7s 51ms/step - loss: 6.3129e-04\n",
      "Epoch 96/100\n",
      "132/132 [==============================] - 6s 46ms/step - loss: 6.4141e-04\n",
      "Epoch 97/100\n",
      "132/132 [==============================] - 11s 81ms/step - loss: 6.8231e-04\n",
      "Epoch 98/100\n",
      "132/132 [==============================] - 6s 45ms/step - loss: 6.6084e-04\n",
      "Epoch 99/100\n",
      "132/132 [==============================] - 6s 44ms/step - loss: 6.6054e-04: 0s - loss: 6.6089e-\n",
      "Epoch 100/100\n",
      "132/132 [==============================] - 7s 56ms/step - loss: 6.3905e-04\n"
     ]
    },
    {
     "data": {
      "text/plain": [
       "<tensorflow.python.keras.callbacks.History at 0x2452d041d08>"
      ]
     },
     "execution_count": 22,
     "metadata": {},
     "output_type": "execute_result"
    }
   ],
   "source": [
    "gs.add(Dense(units=1))\n",
    "gs.compile(optimizer=\"adam\",\n",
    "                  loss=\"mean_squared_error\")\n",
    "gs.fit(x=x_train,y=y_train,epochs=100,batch_size=40)"
   ]
  },
  {
   "cell_type": "code",
   "execution_count": 114,
   "id": "printable-exchange",
   "metadata": {},
   "outputs": [
    {
     "name": "stdout",
     "output_type": "stream",
     "text": [
      "Model: \"sequential_1\"\n",
      "_________________________________________________________________\n",
      "Layer (type)                 Output Shape              Param #   \n",
      "=================================================================\n",
      "lstm_4 (LSTM)                (None, 50, 50)            10400     \n",
      "_________________________________________________________________\n",
      "dropout_4 (Dropout)          (None, 50, 50)            0         \n",
      "_________________________________________________________________\n",
      "lstm_5 (LSTM)                (None, 50, 50)            20200     \n",
      "_________________________________________________________________\n",
      "dropout_5 (Dropout)          (None, 50, 50)            0         \n",
      "_________________________________________________________________\n",
      "lstm_6 (LSTM)                (None, 50, 50)            20200     \n",
      "_________________________________________________________________\n",
      "dropout_6 (Dropout)          (None, 50, 50)            0         \n",
      "_________________________________________________________________\n",
      "lstm_7 (LSTM)                (None, 50)                20200     \n",
      "_________________________________________________________________\n",
      "dropout_7 (Dropout)          (None, 50)                0         \n",
      "_________________________________________________________________\n",
      "dense_1 (Dense)              (None, 1)                 51        \n",
      "=================================================================\n",
      "Total params: 71,051\n",
      "Trainable params: 71,051\n",
      "Non-trainable params: 0\n",
      "_________________________________________________________________\n"
     ]
    }
   ],
   "source": [
    "gs.summary()"
   ]
  },
  {
   "cell_type": "code",
   "execution_count": 24,
   "id": "fifth-general",
   "metadata": {},
   "outputs": [],
   "source": [
    "test_dataset=pd.read_csv(\"gs_test.csv\")\n",
    "test=test_dataset.iloc[:,4:5].values\n",
    "total_data=pd.concat((train_dataset[\"close\"],test_dataset[\"close\"]),axis=0)"
   ]
  },
  {
   "cell_type": "code",
   "execution_count": 33,
   "id": "optional-theater",
   "metadata": {},
   "outputs": [
    {
     "name": "stdout",
     "output_type": "stream",
     "text": [
      "(325, 1) <class 'numpy.ndarray'>\n"
     ]
    }
   ],
   "source": [
    "inputs=total_data[len(total_data)-len(test)-50:].values\n",
    "inputs=inputs.reshape(-1,1)\n",
    "print(inputs.shape,type(inputs))\n",
    "inputs=sc.fit_transform(inputs)"
   ]
  },
  {
   "cell_type": "code",
   "execution_count": 27,
   "id": "floating-weekend",
   "metadata": {},
   "outputs": [],
   "source": [
    "x_test=[]\n",
    "for i in range(50,len(test)):\n",
    "    x_test.append(inputs[i-50:i,0])\n",
    "x_test=np.array(x_test)\n",
    "x_test=np.reshape(x_test,(x_test.shape[0],x_test.shape[1],1))\n",
    "predicted_stock=gs.predict(x_test)\n",
    "predicted_stock_price=sc.inverse_transform(predicted_stock)"
   ]
  },
  {
   "cell_type": "code",
   "execution_count": 28,
   "id": "enhanced-school",
   "metadata": {},
   "outputs": [
    {
     "data": {
      "image/png": "[encoded data removed]",
      "text/plain": [
       "<Figure size 432x288 with 1 Axes>"
      ]
     },
     "metadata": {
      "needs_background": "light"
     },
     "output_type": "display_data"
    }
   ],
   "source": [
    "plt.plot(predicted_stock_price,color=\"red\",label=\"predited_stock_price\")\n",
    "plt.plot(test,color=\"blue\",label=\"real_stock_price\")\n",
    "plt.title(\"Google stock prices\")\n",
    "plt.xlabel(\"time\")\n",
    "plt.ylabel(\"stock prices\")\n",
    "plt.legend()\n",
    "plt.show()"
   ]
  },
  {
   "cell_type": "code",
   "execution_count": null,
   "id": "strategic-summary",
   "metadata": {},
   "outputs": [],
   "source": []
  },
  {
   "cell_type": "code",
   "execution_count": 109,
   "id": "younger-packing",
   "metadata": {
    "scrolled": true
   },
   "outputs": [
    {
     "name": "stderr",
     "output_type": "stream",
     "text": [
      "c:\\users\\hp\\anaconda3\\envs\\ml\\lib\\site-packages\\ipykernel_launcher.py:8: VisibleDeprecationWarning: Creating an ndarray from ragged nested sequences (which is a list-or-tuple of lists-or-tuples-or ndarrays with different lengths or shapes) is deprecated. If you meant to do this, you must specify 'dtype=object' when creating the ndarray\n",
      "  \n",
      "c:\\users\\hp\\anaconda3\\envs\\ml\\lib\\site-packages\\ipykernel_launcher.py:8: VisibleDeprecationWarning: Creating an ndarray from ragged nested sequences (which is a list-or-tuple of lists-or-tuples-or ndarrays with different lengths or shapes) is deprecated. If you meant to do this, you must specify 'dtype=object' when creating the ndarray\n",
      "  \n",
      "c:\\users\\hp\\anaconda3\\envs\\ml\\lib\\site-packages\\ipykernel_launcher.py:8: VisibleDeprecationWarning: Creating an ndarray from ragged nested sequences (which is a list-or-tuple of lists-or-tuples-or ndarrays with different lengths or shapes) is deprecated. If you meant to do this, you must specify 'dtype=object' when creating the ndarray\n",
      "  \n",
      "c:\\users\\hp\\anaconda3\\envs\\ml\\lib\\site-packages\\ipykernel_launcher.py:8: VisibleDeprecationWarning: Creating an ndarray from ragged nested sequences (which is a list-or-tuple of lists-or-tuples-or ndarrays with different lengths or shapes) is deprecated. If you meant to do this, you must specify 'dtype=object' when creating the ndarray\n",
      "  \n",
      "c:\\users\\hp\\anaconda3\\envs\\ml\\lib\\site-packages\\ipykernel_launcher.py:8: VisibleDeprecationWarning: Creating an ndarray from ragged nested sequences (which is a list-or-tuple of lists-or-tuples-or ndarrays with different lengths or shapes) is deprecated. If you meant to do this, you must specify 'dtype=object' when creating the ndarray\n",
      "  \n",
      "c:\\users\\hp\\anaconda3\\envs\\ml\\lib\\site-packages\\ipykernel_launcher.py:8: VisibleDeprecationWarning: Creating an ndarray from ragged nested sequences (which is a list-or-tuple of lists-or-tuples-or ndarrays with different lengths or shapes) is deprecated. If you meant to do this, you must specify 'dtype=object' when creating the ndarray\n",
      "  \n",
      "c:\\users\\hp\\anaconda3\\envs\\ml\\lib\\site-packages\\ipykernel_launcher.py:8: VisibleDeprecationWarning: Creating an ndarray from ragged nested sequences (which is a list-or-tuple of lists-or-tuples-or ndarrays with different lengths or shapes) is deprecated. If you meant to do this, you must specify 'dtype=object' when creating the ndarray\n",
      "  \n",
      "c:\\users\\hp\\anaconda3\\envs\\ml\\lib\\site-packages\\ipykernel_launcher.py:8: VisibleDeprecationWarning: Creating an ndarray from ragged nested sequences (which is a list-or-tuple of lists-or-tuples-or ndarrays with different lengths or shapes) is deprecated. If you meant to do this, you must specify 'dtype=object' when creating the ndarray\n",
      "  \n",
      "c:\\users\\hp\\anaconda3\\envs\\ml\\lib\\site-packages\\ipykernel_launcher.py:8: VisibleDeprecationWarning: Creating an ndarray from ragged nested sequences (which is a list-or-tuple of lists-or-tuples-or ndarrays with different lengths or shapes) is deprecated. If you meant to do this, you must specify 'dtype=object' when creating the ndarray\n",
      "  \n",
      "c:\\users\\hp\\anaconda3\\envs\\ml\\lib\\site-packages\\ipykernel_launcher.py:8: VisibleDeprecationWarning: Creating an ndarray from ragged nested sequences (which is a list-or-tuple of lists-or-tuples-or ndarrays with different lengths or shapes) is deprecated. If you meant to do this, you must specify 'dtype=object' when creating the ndarray\n",
      "  \n",
      "c:\\users\\hp\\anaconda3\\envs\\ml\\lib\\site-packages\\ipykernel_launcher.py:8: VisibleDeprecationWarning: Creating an ndarray from ragged nested sequences (which is a list-or-tuple of lists-or-tuples-or ndarrays with different lengths or shapes) is deprecated. If you meant to do this, you must specify 'dtype=object' when creating the ndarray\n",
      "  \n",
      "c:\\users\\hp\\anaconda3\\envs\\ml\\lib\\site-packages\\ipykernel_launcher.py:8: VisibleDeprecationWarning: Creating an ndarray from ragged nested sequences (which is a list-or-tuple of lists-or-tuples-or ndarrays with different lengths or shapes) is deprecated. If you meant to do this, you must specify 'dtype=object' when creating the ndarray\n",
      "  \n",
      "c:\\users\\hp\\anaconda3\\envs\\ml\\lib\\site-packages\\ipykernel_launcher.py:8: VisibleDeprecationWarning: Creating an ndarray from ragged nested sequences (which is a list-or-tuple of lists-or-tuples-or ndarrays with different lengths or shapes) is deprecated. If you meant to do this, you must specify 'dtype=object' when creating the ndarray\n",
      "  \n",
      "c:\\users\\hp\\anaconda3\\envs\\ml\\lib\\site-packages\\ipykernel_launcher.py:8: VisibleDeprecationWarning: Creating an ndarray from ragged nested sequences (which is a list-or-tuple of lists-or-tuples-or ndarrays with different lengths or shapes) is deprecated. If you meant to do this, you must specify 'dtype=object' when creating the ndarray\n",
      "  \n",
      "c:\\users\\hp\\anaconda3\\envs\\ml\\lib\\site-packages\\ipykernel_launcher.py:8: VisibleDeprecationWarning: Creating an ndarray from ragged nested sequences (which is a list-or-tuple of lists-or-tuples-or ndarrays with different lengths or shapes) is deprecated. If you meant to do this, you must specify 'dtype=object' when creating the ndarray\n",
      "  \n",
      "c:\\users\\hp\\anaconda3\\envs\\ml\\lib\\site-packages\\ipykernel_launcher.py:8: VisibleDeprecationWarning: Creating an ndarray from ragged nested sequences (which is a list-or-tuple of lists-or-tuples-or ndarrays with different lengths or shapes) is deprecated. If you meant to do this, you must specify 'dtype=object' when creating the ndarray\n",
      "  \n",
      "c:\\users\\hp\\anaconda3\\envs\\ml\\lib\\site-packages\\ipykernel_launcher.py:8: VisibleDeprecationWarning: Creating an ndarray from ragged nested sequences (which is a list-or-tuple of lists-or-tuples-or ndarrays with different lengths or shapes) is deprecated. If you meant to do this, you must specify 'dtype=object' when creating the ndarray\n",
      "  \n",
      "c:\\users\\hp\\anaconda3\\envs\\ml\\lib\\site-packages\\ipykernel_launcher.py:8: VisibleDeprecationWarning: Creating an ndarray from ragged nested sequences (which is a list-or-tuple of lists-or-tuples-or ndarrays with different lengths or shapes) is deprecated. If you meant to do this, you must specify 'dtype=object' when creating the ndarray\n",
      "  \n",
      "c:\\users\\hp\\anaconda3\\envs\\ml\\lib\\site-packages\\ipykernel_launcher.py:8: VisibleDeprecationWarning: Creating an ndarray from ragged nested sequences (which is a list-or-tuple of lists-or-tuples-or ndarrays with different lengths or shapes) is deprecated. If you meant to do this, you must specify 'dtype=object' when creating the ndarray\n",
      "  \n",
      "c:\\users\\hp\\anaconda3\\envs\\ml\\lib\\site-packages\\ipykernel_launcher.py:8: VisibleDeprecationWarning: Creating an ndarray from ragged nested sequences (which is a list-or-tuple of lists-or-tuples-or ndarrays with different lengths or shapes) is deprecated. If you meant to do this, you must specify 'dtype=object' when creating the ndarray\n",
      "  \n",
      "c:\\users\\hp\\anaconda3\\envs\\ml\\lib\\site-packages\\ipykernel_launcher.py:8: VisibleDeprecationWarning: Creating an ndarray from ragged nested sequences (which is a list-or-tuple of lists-or-tuples-or ndarrays with different lengths or shapes) is deprecated. If you meant to do this, you must specify 'dtype=object' when creating the ndarray\n",
      "  \n",
      "c:\\users\\hp\\anaconda3\\envs\\ml\\lib\\site-packages\\ipykernel_launcher.py:8: VisibleDeprecationWarning: Creating an ndarray from ragged nested sequences (which is a list-or-tuple of lists-or-tuples-or ndarrays with different lengths or shapes) is deprecated. If you meant to do this, you must specify 'dtype=object' when creating the ndarray\n",
      "  \n",
      "c:\\users\\hp\\anaconda3\\envs\\ml\\lib\\site-packages\\ipykernel_launcher.py:8: VisibleDeprecationWarning: Creating an ndarray from ragged nested sequences (which is a list-or-tuple of lists-or-tuples-or ndarrays with different lengths or shapes) is deprecated. If you meant to do this, you must specify 'dtype=object' when creating the ndarray\n",
      "  \n",
      "c:\\users\\hp\\anaconda3\\envs\\ml\\lib\\site-packages\\ipykernel_launcher.py:8: VisibleDeprecationWarning: Creating an ndarray from ragged nested sequences (which is a list-or-tuple of lists-or-tuples-or ndarrays with different lengths or shapes) is deprecated. If you meant to do this, you must specify 'dtype=object' when creating the ndarray\n",
      "  \n",
      "c:\\users\\hp\\anaconda3\\envs\\ml\\lib\\site-packages\\ipykernel_launcher.py:8: VisibleDeprecationWarning: Creating an ndarray from ragged nested sequences (which is a list-or-tuple of lists-or-tuples-or ndarrays with different lengths or shapes) is deprecated. If you meant to do this, you must specify 'dtype=object' when creating the ndarray\n",
      "  \n",
      "c:\\users\\hp\\anaconda3\\envs\\ml\\lib\\site-packages\\ipykernel_launcher.py:8: VisibleDeprecationWarning: Creating an ndarray from ragged nested sequences (which is a list-or-tuple of lists-or-tuples-or ndarrays with different lengths or shapes) is deprecated. If you meant to do this, you must specify 'dtype=object' when creating the ndarray\n",
      "  \n",
      "c:\\users\\hp\\anaconda3\\envs\\ml\\lib\\site-packages\\ipykernel_launcher.py:8: VisibleDeprecationWarning: Creating an ndarray from ragged nested sequences (which is a list-or-tuple of lists-or-tuples-or ndarrays with different lengths or shapes) is deprecated. If you meant to do this, you must specify 'dtype=object' when creating the ndarray\n",
      "  \n",
      "c:\\users\\hp\\anaconda3\\envs\\ml\\lib\\site-packages\\ipykernel_launcher.py:8: VisibleDeprecationWarning: Creating an ndarray from ragged nested sequences (which is a list-or-tuple of lists-or-tuples-or ndarrays with different lengths or shapes) is deprecated. If you meant to do this, you must specify 'dtype=object' when creating the ndarray\n",
      "  \n",
      "c:\\users\\hp\\anaconda3\\envs\\ml\\lib\\site-packages\\ipykernel_launcher.py:8: VisibleDeprecationWarning: Creating an ndarray from ragged nested sequences (which is a list-or-tuple of lists-or-tuples-or ndarrays with different lengths or shapes) is deprecated. If you meant to do this, you must specify 'dtype=object' when creating the ndarray\n",
      "  \n"
     ]
    },
    {
     "name": "stderr",
     "output_type": "stream",
     "text": [
      "c:\\users\\hp\\anaconda3\\envs\\ml\\lib\\site-packages\\ipykernel_launcher.py:8: VisibleDeprecationWarning: Creating an ndarray from ragged nested sequences (which is a list-or-tuple of lists-or-tuples-or ndarrays with different lengths or shapes) is deprecated. If you meant to do this, you must specify 'dtype=object' when creating the ndarray\n",
      "  \n",
      "c:\\users\\hp\\anaconda3\\envs\\ml\\lib\\site-packages\\ipykernel_launcher.py:8: VisibleDeprecationWarning: Creating an ndarray from ragged nested sequences (which is a list-or-tuple of lists-or-tuples-or ndarrays with different lengths or shapes) is deprecated. If you meant to do this, you must specify 'dtype=object' when creating the ndarray\n",
      "  \n",
      "c:\\users\\hp\\anaconda3\\envs\\ml\\lib\\site-packages\\ipykernel_launcher.py:8: VisibleDeprecationWarning: Creating an ndarray from ragged nested sequences (which is a list-or-tuple of lists-or-tuples-or ndarrays with different lengths or shapes) is deprecated. If you meant to do this, you must specify 'dtype=object' when creating the ndarray\n",
      "  \n",
      "c:\\users\\hp\\anaconda3\\envs\\ml\\lib\\site-packages\\ipykernel_launcher.py:8: VisibleDeprecationWarning: Creating an ndarray from ragged nested sequences (which is a list-or-tuple of lists-or-tuples-or ndarrays with different lengths or shapes) is deprecated. If you meant to do this, you must specify 'dtype=object' when creating the ndarray\n",
      "  \n",
      "c:\\users\\hp\\anaconda3\\envs\\ml\\lib\\site-packages\\ipykernel_launcher.py:8: VisibleDeprecationWarning: Creating an ndarray from ragged nested sequences (which is a list-or-tuple of lists-or-tuples-or ndarrays with different lengths or shapes) is deprecated. If you meant to do this, you must specify 'dtype=object' when creating the ndarray\n",
      "  \n",
      "c:\\users\\hp\\anaconda3\\envs\\ml\\lib\\site-packages\\ipykernel_launcher.py:8: VisibleDeprecationWarning: Creating an ndarray from ragged nested sequences (which is a list-or-tuple of lists-or-tuples-or ndarrays with different lengths or shapes) is deprecated. If you meant to do this, you must specify 'dtype=object' when creating the ndarray\n",
      "  \n",
      "c:\\users\\hp\\anaconda3\\envs\\ml\\lib\\site-packages\\ipykernel_launcher.py:8: VisibleDeprecationWarning: Creating an ndarray from ragged nested sequences (which is a list-or-tuple of lists-or-tuples-or ndarrays with different lengths or shapes) is deprecated. If you meant to do this, you must specify 'dtype=object' when creating the ndarray\n",
      "  \n",
      "c:\\users\\hp\\anaconda3\\envs\\ml\\lib\\site-packages\\ipykernel_launcher.py:8: VisibleDeprecationWarning: Creating an ndarray from ragged nested sequences (which is a list-or-tuple of lists-or-tuples-or ndarrays with different lengths or shapes) is deprecated. If you meant to do this, you must specify 'dtype=object' when creating the ndarray\n",
      "  \n",
      "c:\\users\\hp\\anaconda3\\envs\\ml\\lib\\site-packages\\ipykernel_launcher.py:8: VisibleDeprecationWarning: Creating an ndarray from ragged nested sequences (which is a list-or-tuple of lists-or-tuples-or ndarrays with different lengths or shapes) is deprecated. If you meant to do this, you must specify 'dtype=object' when creating the ndarray\n",
      "  \n",
      "c:\\users\\hp\\anaconda3\\envs\\ml\\lib\\site-packages\\ipykernel_launcher.py:8: VisibleDeprecationWarning: Creating an ndarray from ragged nested sequences (which is a list-or-tuple of lists-or-tuples-or ndarrays with different lengths or shapes) is deprecated. If you meant to do this, you must specify 'dtype=object' when creating the ndarray\n",
      "  \n",
      "c:\\users\\hp\\anaconda3\\envs\\ml\\lib\\site-packages\\ipykernel_launcher.py:8: VisibleDeprecationWarning: Creating an ndarray from ragged nested sequences (which is a list-or-tuple of lists-or-tuples-or ndarrays with different lengths or shapes) is deprecated. If you meant to do this, you must specify 'dtype=object' when creating the ndarray\n",
      "  \n",
      "c:\\users\\hp\\anaconda3\\envs\\ml\\lib\\site-packages\\ipykernel_launcher.py:8: VisibleDeprecationWarning: Creating an ndarray from ragged nested sequences (which is a list-or-tuple of lists-or-tuples-or ndarrays with different lengths or shapes) is deprecated. If you meant to do this, you must specify 'dtype=object' when creating the ndarray\n",
      "  \n",
      "c:\\users\\hp\\anaconda3\\envs\\ml\\lib\\site-packages\\ipykernel_launcher.py:8: VisibleDeprecationWarning: Creating an ndarray from ragged nested sequences (which is a list-or-tuple of lists-or-tuples-or ndarrays with different lengths or shapes) is deprecated. If you meant to do this, you must specify 'dtype=object' when creating the ndarray\n",
      "  \n",
      "c:\\users\\hp\\anaconda3\\envs\\ml\\lib\\site-packages\\ipykernel_launcher.py:8: VisibleDeprecationWarning: Creating an ndarray from ragged nested sequences (which is a list-or-tuple of lists-or-tuples-or ndarrays with different lengths or shapes) is deprecated. If you meant to do this, you must specify 'dtype=object' when creating the ndarray\n",
      "  \n",
      "c:\\users\\hp\\anaconda3\\envs\\ml\\lib\\site-packages\\ipykernel_launcher.py:8: VisibleDeprecationWarning: Creating an ndarray from ragged nested sequences (which is a list-or-tuple of lists-or-tuples-or ndarrays with different lengths or shapes) is deprecated. If you meant to do this, you must specify 'dtype=object' when creating the ndarray\n",
      "  \n",
      "c:\\users\\hp\\anaconda3\\envs\\ml\\lib\\site-packages\\ipykernel_launcher.py:8: VisibleDeprecationWarning: Creating an ndarray from ragged nested sequences (which is a list-or-tuple of lists-or-tuples-or ndarrays with different lengths or shapes) is deprecated. If you meant to do this, you must specify 'dtype=object' when creating the ndarray\n",
      "  \n",
      "c:\\users\\hp\\anaconda3\\envs\\ml\\lib\\site-packages\\ipykernel_launcher.py:8: VisibleDeprecationWarning: Creating an ndarray from ragged nested sequences (which is a list-or-tuple of lists-or-tuples-or ndarrays with different lengths or shapes) is deprecated. If you meant to do this, you must specify 'dtype=object' when creating the ndarray\n",
      "  \n",
      "c:\\users\\hp\\anaconda3\\envs\\ml\\lib\\site-packages\\ipykernel_launcher.py:8: VisibleDeprecationWarning: Creating an ndarray from ragged nested sequences (which is a list-or-tuple of lists-or-tuples-or ndarrays with different lengths or shapes) is deprecated. If you meant to do this, you must specify 'dtype=object' when creating the ndarray\n",
      "  \n",
      "c:\\users\\hp\\anaconda3\\envs\\ml\\lib\\site-packages\\ipykernel_launcher.py:8: VisibleDeprecationWarning: Creating an ndarray from ragged nested sequences (which is a list-or-tuple of lists-or-tuples-or ndarrays with different lengths or shapes) is deprecated. If you meant to do this, you must specify 'dtype=object' when creating the ndarray\n",
      "  \n",
      "c:\\users\\hp\\anaconda3\\envs\\ml\\lib\\site-packages\\ipykernel_launcher.py:8: VisibleDeprecationWarning: Creating an ndarray from ragged nested sequences (which is a list-or-tuple of lists-or-tuples-or ndarrays with different lengths or shapes) is deprecated. If you meant to do this, you must specify 'dtype=object' when creating the ndarray\n",
      "  \n"
     ]
    }
   ],
   "source": [
    "days = 60\n",
    "\n",
    "res = []\n",
    "new_d =list(total_data[-51:].values)\n",
    "\n",
    "for i in range(days):\n",
    "    \n",
    "    new_x =np.array(new_d[-50:])\n",
    "    new_x = new_x.reshape(-1,1)\n",
    "    new_t = sc.fit_transform(new_x)\n",
    "    new_test = [new_t]\n",
    "    new_test = np.array(new_test)\n",
    "    new_test = np.reshape(new_test,(new_test.shape[0],new_test.shape[1],1))\n",
    "    pre = gs.predict(new_test)\n",
    "    pre = sc.inverse_transform(pre)\n",
    "    res.append(pre)\n",
    "    new_d+=[pre]\n",
    "    \n",
    "    "
   ]
  },
  {
   "cell_type": "code",
   "execution_count": 113,
   "id": "latin-athletics",
   "metadata": {},
   "outputs": [
    {
     "data": {
      "text/plain": [
       "[<matplotlib.lines.Line2D at 0x24539bec1c8>]"
      ]
     },
     "execution_count": 113,
     "metadata": {},
     "output_type": "execute_result"
    },
    {
     "data": {
      "image/png": "[encoded data removed]",
      "text/plain": [
       "<Figure size 432x288 with 1 Axes>"
      ]
     },
     "metadata": {
      "needs_background": "light"
     },
     "output_type": "display_data"
    }
   ],
   "source": [
    "n = [i[0] for i in res] #next 60 days plot\n",
    "plt.plot(n)"
   ]
  },
  {
   "cell_type": "code",
   "execution_count": 111,
   "id": "large-heaven",
   "metadata": {},
   "outputs": [],
   "source": [
    "real_y = [i[0] for i in test[-50:]]     \n",
    "real_x = list(range(len(real_y)))\n",
    "\n",
    "complete_y = real_y + [i[0] for i in n]\n",
    "complete_x = list(range(len(complete_y)))"
   ]
  },
  {
   "cell_type": "code",
   "execution_count": 112,
   "id": "bright-response",
   "metadata": {},
   "outputs": [
    {
     "data": {
      "text/plain": [
       "[<matplotlib.lines.Line2D at 0x24537d60c88>]"
      ]
     },
     "execution_count": 112,
     "metadata": {},
     "output_type": "execute_result"
    },
    {
     "data": {
      "image/png": "[encoded data removed]",
      "text/plain": [
       "<Figure size 432x288 with 1 Axes>"
      ]
     },
     "metadata": {
      "needs_background": "light"
     },
     "output_type": "display_data"
    }
   ],
   "source": [
    "plt.plot(real_x,real_y,color = 'red')\n",
    "plt.plot(complete_x,complete_y,color ='blue')\n"
   ]
  },
  {
   "cell_type": "code",
   "execution_count": null,
   "id": "korean-orleans",
   "metadata": {},
   "outputs": [],
   "source": []
  },
  {
   "cell_type": "code",
   "execution_count": null,
   "id": "australian-pillow",
   "metadata": {},
   "outputs": [],
   "source": []
  }
 ],
 "metadata": {
  "kernelspec": {
   "display_name": "Python 3",
   "language": "python",
   "name": "python3"
  },
  "language_info": {
   "codemirror_mode": {
    "name": "ipython",
    "version": 3
   },
   "file_extension": ".py",
   "mimetype": "text/x-python",
   "name": "python",
   "nbconvert_exporter": "python",
   "pygments_lexer": "ipython3",
   "version": "3.7.10"
  }
 },
 "nbformat": 4,
 "nbformat_minor": 5
}
